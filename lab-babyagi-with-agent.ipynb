{
 "cells": [
  {
   "cell_type": "markdown",
   "id": "1cdba6f7-142d-4dd2-96f6-a13bb5d978ce",
   "metadata": {},
   "source": [
    "# Lab | BabyAGI with agent\n",
    "\n",
    "**Change the planner objective below by changing the objective and the associated prompts and potential tools and agents - Wear your creativity and AI engineering hats\n",
    "You can't get this wrong!**\n",
    "\n",
    "You would need the OpenAI API KEY and the [SerpAPI KEY](https://serpapi.com/manage-api-keyhttps://serpapi.com/manage-api-key) to run this lab.\n"
   ]
  },
  {
   "cell_type": "markdown",
   "id": "517a9fd4",
   "metadata": {},
   "source": [
    "## BabyAGI with Tools\n",
    "\n",
    "This notebook builds on top of [baby agi](baby_agi.html), but shows how you can swap out the execution chain. The previous execution chain was just an LLM which made stuff up. By swapping it out with an agent that has access to tools, we can hopefully get real reliable information"
   ]
  },
  {
   "cell_type": "markdown",
   "id": "556af556",
   "metadata": {},
   "source": [
    "## Install and Import Required Modules"
   ]
  },
  {
   "cell_type": "code",
   "execution_count": 1,
   "id": "85b7ca88",
   "metadata": {},
   "outputs": [
    {
     "name": "stdout",
     "output_type": "stream",
     "text": [
      "Requirement already satisfied: langchain_community in /opt/anaconda3/lib/python3.12/site-packages (0.3.31)\n",
      "Requirement already satisfied: langchain_experimental in /opt/anaconda3/lib/python3.12/site-packages (0.3.4)\n",
      "Requirement already satisfied: langchain_openai in /opt/anaconda3/lib/python3.12/site-packages (0.3.35)\n",
      "Requirement already satisfied: langchain-core<2.0.0,>=0.3.78 in /opt/anaconda3/lib/python3.12/site-packages (from langchain_community) (0.3.79)\n",
      "Requirement already satisfied: langchain<2.0.0,>=0.3.27 in /opt/anaconda3/lib/python3.12/site-packages (from langchain_community) (0.3.27)\n",
      "Requirement already satisfied: SQLAlchemy<3.0.0,>=1.4.0 in /opt/anaconda3/lib/python3.12/site-packages (from langchain_community) (2.0.34)\n",
      "Requirement already satisfied: requests<3.0.0,>=2.32.5 in /opt/anaconda3/lib/python3.12/site-packages (from langchain_community) (2.32.5)\n",
      "Requirement already satisfied: PyYAML<7.0.0,>=5.3.0 in /opt/anaconda3/lib/python3.12/site-packages (from langchain_community) (6.0.1)\n",
      "Requirement already satisfied: aiohttp<4.0.0,>=3.8.3 in /opt/anaconda3/lib/python3.12/site-packages (from langchain_community) (3.10.5)\n",
      "Requirement already satisfied: tenacity!=8.4.0,<10.0.0,>=8.1.0 in /opt/anaconda3/lib/python3.12/site-packages (from langchain_community) (8.2.3)\n",
      "Requirement already satisfied: dataclasses-json<0.7.0,>=0.6.7 in /opt/anaconda3/lib/python3.12/site-packages (from langchain_community) (0.6.7)\n",
      "Requirement already satisfied: pydantic-settings<3.0.0,>=2.10.1 in /opt/anaconda3/lib/python3.12/site-packages (from langchain_community) (2.11.0)\n",
      "Requirement already satisfied: langsmith<1.0.0,>=0.1.125 in /opt/anaconda3/lib/python3.12/site-packages (from langchain_community) (0.4.37)\n",
      "Requirement already satisfied: httpx-sse<1.0.0,>=0.4.0 in /opt/anaconda3/lib/python3.12/site-packages (from langchain_community) (0.4.3)\n",
      "Requirement already satisfied: numpy>=1.26.2 in /opt/anaconda3/lib/python3.12/site-packages (from langchain_community) (1.26.4)\n",
      "Requirement already satisfied: openai<3.0.0,>=1.104.2 in /opt/anaconda3/lib/python3.12/site-packages (from langchain_openai) (2.3.0)\n",
      "Requirement already satisfied: tiktoken<1.0.0,>=0.7.0 in /opt/anaconda3/lib/python3.12/site-packages (from langchain_openai) (0.12.0)\n",
      "Requirement already satisfied: aiohappyeyeballs>=2.3.0 in /opt/anaconda3/lib/python3.12/site-packages (from aiohttp<4.0.0,>=3.8.3->langchain_community) (2.4.0)\n",
      "Requirement already satisfied: aiosignal>=1.1.2 in /opt/anaconda3/lib/python3.12/site-packages (from aiohttp<4.0.0,>=3.8.3->langchain_community) (1.2.0)\n",
      "Requirement already satisfied: attrs>=17.3.0 in /opt/anaconda3/lib/python3.12/site-packages (from aiohttp<4.0.0,>=3.8.3->langchain_community) (23.1.0)\n",
      "Requirement already satisfied: frozenlist>=1.1.1 in /opt/anaconda3/lib/python3.12/site-packages (from aiohttp<4.0.0,>=3.8.3->langchain_community) (1.4.0)\n",
      "Requirement already satisfied: multidict<7.0,>=4.5 in /opt/anaconda3/lib/python3.12/site-packages (from aiohttp<4.0.0,>=3.8.3->langchain_community) (6.0.4)\n",
      "Requirement already satisfied: yarl<2.0,>=1.0 in /opt/anaconda3/lib/python3.12/site-packages (from aiohttp<4.0.0,>=3.8.3->langchain_community) (1.11.0)\n",
      "Requirement already satisfied: marshmallow<4.0.0,>=3.18.0 in /opt/anaconda3/lib/python3.12/site-packages (from dataclasses-json<0.7.0,>=0.6.7->langchain_community) (3.26.1)\n",
      "Requirement already satisfied: typing-inspect<1,>=0.4.0 in /opt/anaconda3/lib/python3.12/site-packages (from dataclasses-json<0.7.0,>=0.6.7->langchain_community) (0.9.0)\n",
      "Requirement already satisfied: langchain-text-splitters<1.0.0,>=0.3.9 in /opt/anaconda3/lib/python3.12/site-packages (from langchain<2.0.0,>=0.3.27->langchain_community) (0.3.11)\n",
      "Requirement already satisfied: pydantic<3.0.0,>=2.7.4 in /opt/anaconda3/lib/python3.12/site-packages (from langchain<2.0.0,>=0.3.27->langchain_community) (2.8.2)\n",
      "Requirement already satisfied: jsonpatch<2.0.0,>=1.33.0 in /opt/anaconda3/lib/python3.12/site-packages (from langchain-core<2.0.0,>=0.3.78->langchain_community) (1.33)\n",
      "Requirement already satisfied: typing-extensions<5.0.0,>=4.7.0 in /opt/anaconda3/lib/python3.12/site-packages (from langchain-core<2.0.0,>=0.3.78->langchain_community) (4.15.0)\n",
      "Requirement already satisfied: packaging<26.0.0,>=23.2.0 in /opt/anaconda3/lib/python3.12/site-packages (from langchain-core<2.0.0,>=0.3.78->langchain_community) (24.1)\n",
      "Requirement already satisfied: httpx<1,>=0.23.0 in /opt/anaconda3/lib/python3.12/site-packages (from langsmith<1.0.0,>=0.1.125->langchain_community) (0.27.0)\n",
      "Requirement already satisfied: orjson>=3.9.14 in /opt/anaconda3/lib/python3.12/site-packages (from langsmith<1.0.0,>=0.1.125->langchain_community) (3.11.3)\n",
      "Requirement already satisfied: requests-toolbelt>=1.0.0 in /opt/anaconda3/lib/python3.12/site-packages (from langsmith<1.0.0,>=0.1.125->langchain_community) (1.0.0)\n",
      "Requirement already satisfied: zstandard>=0.23.0 in /opt/anaconda3/lib/python3.12/site-packages (from langsmith<1.0.0,>=0.1.125->langchain_community) (0.23.0)\n",
      "Requirement already satisfied: anyio<5,>=3.5.0 in /opt/anaconda3/lib/python3.12/site-packages (from openai<3.0.0,>=1.104.2->langchain_openai) (4.2.0)\n",
      "Requirement already satisfied: distro<2,>=1.7.0 in /opt/anaconda3/lib/python3.12/site-packages (from openai<3.0.0,>=1.104.2->langchain_openai) (1.9.0)\n",
      "Requirement already satisfied: jiter<1,>=0.10.0 in /opt/anaconda3/lib/python3.12/site-packages (from openai<3.0.0,>=1.104.2->langchain_openai) (0.10.0)\n",
      "Requirement already satisfied: sniffio in /opt/anaconda3/lib/python3.12/site-packages (from openai<3.0.0,>=1.104.2->langchain_openai) (1.3.0)\n",
      "Requirement already satisfied: tqdm>4 in /opt/anaconda3/lib/python3.12/site-packages (from openai<3.0.0,>=1.104.2->langchain_openai) (4.66.5)\n",
      "Requirement already satisfied: python-dotenv>=0.21.0 in /opt/anaconda3/lib/python3.12/site-packages (from pydantic-settings<3.0.0,>=2.10.1->langchain_community) (0.21.0)\n",
      "Requirement already satisfied: typing-inspection>=0.4.0 in /opt/anaconda3/lib/python3.12/site-packages (from pydantic-settings<3.0.0,>=2.10.1->langchain_community) (0.4.2)\n",
      "Requirement already satisfied: charset_normalizer<4,>=2 in /opt/anaconda3/lib/python3.12/site-packages (from requests<3.0.0,>=2.32.5->langchain_community) (3.3.2)\n",
      "Requirement already satisfied: idna<4,>=2.5 in /opt/anaconda3/lib/python3.12/site-packages (from requests<3.0.0,>=2.32.5->langchain_community) (3.7)\n",
      "Requirement already satisfied: urllib3<3,>=1.21.1 in /opt/anaconda3/lib/python3.12/site-packages (from requests<3.0.0,>=2.32.5->langchain_community) (2.2.3)\n",
      "Requirement already satisfied: certifi>=2017.4.17 in /opt/anaconda3/lib/python3.12/site-packages (from requests<3.0.0,>=2.32.5->langchain_community) (2025.8.3)\n",
      "Requirement already satisfied: regex>=2022.1.18 in /opt/anaconda3/lib/python3.12/site-packages (from tiktoken<1.0.0,>=0.7.0->langchain_openai) (2024.9.11)\n",
      "Requirement already satisfied: httpcore==1.* in /opt/anaconda3/lib/python3.12/site-packages (from httpx<1,>=0.23.0->langsmith<1.0.0,>=0.1.125->langchain_community) (1.0.2)\n",
      "Requirement already satisfied: h11<0.15,>=0.13 in /opt/anaconda3/lib/python3.12/site-packages (from httpcore==1.*->httpx<1,>=0.23.0->langsmith<1.0.0,>=0.1.125->langchain_community) (0.14.0)\n",
      "Requirement already satisfied: jsonpointer>=1.9 in /opt/anaconda3/lib/python3.12/site-packages (from jsonpatch<2.0.0,>=1.33.0->langchain-core<2.0.0,>=0.3.78->langchain_community) (2.1)\n",
      "Requirement already satisfied: annotated-types>=0.4.0 in /opt/anaconda3/lib/python3.12/site-packages (from pydantic<3.0.0,>=2.7.4->langchain<2.0.0,>=0.3.27->langchain_community) (0.6.0)\n",
      "Requirement already satisfied: pydantic-core==2.20.1 in /opt/anaconda3/lib/python3.12/site-packages (from pydantic<3.0.0,>=2.7.4->langchain<2.0.0,>=0.3.27->langchain_community) (2.20.1)\n",
      "Requirement already satisfied: mypy-extensions>=0.3.0 in /opt/anaconda3/lib/python3.12/site-packages (from typing-inspect<1,>=0.4.0->dataclasses-json<0.7.0,>=0.6.7->langchain_community) (1.0.0)\n",
      "Note: you may need to restart the kernel to use updated packages.\n"
     ]
    }
   ],
   "source": [
    "%pip install langchain_community langchain_experimental langchain_openai"
   ]
  },
  {
   "cell_type": "code",
   "execution_count": 18,
   "id": "c8a354b6",
   "metadata": {
    "tags": []
   },
   "outputs": [
    {
     "name": "stdout",
     "output_type": "stream",
     "text": [
      "Requirement already satisfied: langchain_experimental in /opt/anaconda3/lib/python3.12/site-packages (0.3.4)\n",
      "Requirement already satisfied: langchain-community<0.4.0,>=0.3.0 in /opt/anaconda3/lib/python3.12/site-packages (from langchain_experimental) (0.3.31)\n",
      "Requirement already satisfied: langchain-core<0.4.0,>=0.3.28 in /opt/anaconda3/lib/python3.12/site-packages (from langchain_experimental) (0.3.79)\n",
      "Requirement already satisfied: langchain<2.0.0,>=0.3.27 in /opt/anaconda3/lib/python3.12/site-packages (from langchain-community<0.4.0,>=0.3.0->langchain_experimental) (0.3.27)\n",
      "Requirement already satisfied: SQLAlchemy<3.0.0,>=1.4.0 in /opt/anaconda3/lib/python3.12/site-packages (from langchain-community<0.4.0,>=0.3.0->langchain_experimental) (2.0.34)\n",
      "Requirement already satisfied: requests<3.0.0,>=2.32.5 in /opt/anaconda3/lib/python3.12/site-packages (from langchain-community<0.4.0,>=0.3.0->langchain_experimental) (2.32.5)\n",
      "Requirement already satisfied: PyYAML<7.0.0,>=5.3.0 in /opt/anaconda3/lib/python3.12/site-packages (from langchain-community<0.4.0,>=0.3.0->langchain_experimental) (6.0.1)\n",
      "Requirement already satisfied: aiohttp<4.0.0,>=3.8.3 in /opt/anaconda3/lib/python3.12/site-packages (from langchain-community<0.4.0,>=0.3.0->langchain_experimental) (3.10.5)\n",
      "Requirement already satisfied: tenacity!=8.4.0,<10.0.0,>=8.1.0 in /opt/anaconda3/lib/python3.12/site-packages (from langchain-community<0.4.0,>=0.3.0->langchain_experimental) (8.2.3)\n",
      "Requirement already satisfied: dataclasses-json<0.7.0,>=0.6.7 in /opt/anaconda3/lib/python3.12/site-packages (from langchain-community<0.4.0,>=0.3.0->langchain_experimental) (0.6.7)\n",
      "Requirement already satisfied: pydantic-settings<3.0.0,>=2.10.1 in /opt/anaconda3/lib/python3.12/site-packages (from langchain-community<0.4.0,>=0.3.0->langchain_experimental) (2.11.0)\n",
      "Requirement already satisfied: langsmith<1.0.0,>=0.1.125 in /opt/anaconda3/lib/python3.12/site-packages (from langchain-community<0.4.0,>=0.3.0->langchain_experimental) (0.4.37)\n",
      "Requirement already satisfied: httpx-sse<1.0.0,>=0.4.0 in /opt/anaconda3/lib/python3.12/site-packages (from langchain-community<0.4.0,>=0.3.0->langchain_experimental) (0.4.3)\n",
      "Requirement already satisfied: numpy>=1.26.2 in /opt/anaconda3/lib/python3.12/site-packages (from langchain-community<0.4.0,>=0.3.0->langchain_experimental) (1.26.4)\n",
      "Requirement already satisfied: jsonpatch<2.0.0,>=1.33.0 in /opt/anaconda3/lib/python3.12/site-packages (from langchain-core<0.4.0,>=0.3.28->langchain_experimental) (1.33)\n",
      "Requirement already satisfied: typing-extensions<5.0.0,>=4.7.0 in /opt/anaconda3/lib/python3.12/site-packages (from langchain-core<0.4.0,>=0.3.28->langchain_experimental) (4.15.0)\n",
      "Requirement already satisfied: packaging<26.0.0,>=23.2.0 in /opt/anaconda3/lib/python3.12/site-packages (from langchain-core<0.4.0,>=0.3.28->langchain_experimental) (24.1)\n",
      "Requirement already satisfied: pydantic<3.0.0,>=2.7.4 in /opt/anaconda3/lib/python3.12/site-packages (from langchain-core<0.4.0,>=0.3.28->langchain_experimental) (2.8.2)\n",
      "Requirement already satisfied: aiohappyeyeballs>=2.3.0 in /opt/anaconda3/lib/python3.12/site-packages (from aiohttp<4.0.0,>=3.8.3->langchain-community<0.4.0,>=0.3.0->langchain_experimental) (2.4.0)\n",
      "Requirement already satisfied: aiosignal>=1.1.2 in /opt/anaconda3/lib/python3.12/site-packages (from aiohttp<4.0.0,>=3.8.3->langchain-community<0.4.0,>=0.3.0->langchain_experimental) (1.2.0)\n",
      "Requirement already satisfied: attrs>=17.3.0 in /opt/anaconda3/lib/python3.12/site-packages (from aiohttp<4.0.0,>=3.8.3->langchain-community<0.4.0,>=0.3.0->langchain_experimental) (23.1.0)\n",
      "Requirement already satisfied: frozenlist>=1.1.1 in /opt/anaconda3/lib/python3.12/site-packages (from aiohttp<4.0.0,>=3.8.3->langchain-community<0.4.0,>=0.3.0->langchain_experimental) (1.4.0)\n",
      "Requirement already satisfied: multidict<7.0,>=4.5 in /opt/anaconda3/lib/python3.12/site-packages (from aiohttp<4.0.0,>=3.8.3->langchain-community<0.4.0,>=0.3.0->langchain_experimental) (6.0.4)\n",
      "Requirement already satisfied: yarl<2.0,>=1.0 in /opt/anaconda3/lib/python3.12/site-packages (from aiohttp<4.0.0,>=3.8.3->langchain-community<0.4.0,>=0.3.0->langchain_experimental) (1.11.0)\n",
      "Requirement already satisfied: marshmallow<4.0.0,>=3.18.0 in /opt/anaconda3/lib/python3.12/site-packages (from dataclasses-json<0.7.0,>=0.6.7->langchain-community<0.4.0,>=0.3.0->langchain_experimental) (3.26.1)\n",
      "Requirement already satisfied: typing-inspect<1,>=0.4.0 in /opt/anaconda3/lib/python3.12/site-packages (from dataclasses-json<0.7.0,>=0.6.7->langchain-community<0.4.0,>=0.3.0->langchain_experimental) (0.9.0)\n",
      "Requirement already satisfied: jsonpointer>=1.9 in /opt/anaconda3/lib/python3.12/site-packages (from jsonpatch<2.0.0,>=1.33.0->langchain-core<0.4.0,>=0.3.28->langchain_experimental) (2.1)\n",
      "Requirement already satisfied: langchain-text-splitters<1.0.0,>=0.3.9 in /opt/anaconda3/lib/python3.12/site-packages (from langchain<2.0.0,>=0.3.27->langchain-community<0.4.0,>=0.3.0->langchain_experimental) (0.3.11)\n",
      "Requirement already satisfied: httpx<1,>=0.23.0 in /opt/anaconda3/lib/python3.12/site-packages (from langsmith<1.0.0,>=0.1.125->langchain-community<0.4.0,>=0.3.0->langchain_experimental) (0.27.0)\n",
      "Requirement already satisfied: orjson>=3.9.14 in /opt/anaconda3/lib/python3.12/site-packages (from langsmith<1.0.0,>=0.1.125->langchain-community<0.4.0,>=0.3.0->langchain_experimental) (3.11.3)\n",
      "Requirement already satisfied: requests-toolbelt>=1.0.0 in /opt/anaconda3/lib/python3.12/site-packages (from langsmith<1.0.0,>=0.1.125->langchain-community<0.4.0,>=0.3.0->langchain_experimental) (1.0.0)\n",
      "Requirement already satisfied: zstandard>=0.23.0 in /opt/anaconda3/lib/python3.12/site-packages (from langsmith<1.0.0,>=0.1.125->langchain-community<0.4.0,>=0.3.0->langchain_experimental) (0.23.0)\n",
      "Requirement already satisfied: annotated-types>=0.4.0 in /opt/anaconda3/lib/python3.12/site-packages (from pydantic<3.0.0,>=2.7.4->langchain-core<0.4.0,>=0.3.28->langchain_experimental) (0.6.0)\n",
      "Requirement already satisfied: pydantic-core==2.20.1 in /opt/anaconda3/lib/python3.12/site-packages (from pydantic<3.0.0,>=2.7.4->langchain-core<0.4.0,>=0.3.28->langchain_experimental) (2.20.1)\n",
      "Requirement already satisfied: python-dotenv>=0.21.0 in /opt/anaconda3/lib/python3.12/site-packages (from pydantic-settings<3.0.0,>=2.10.1->langchain-community<0.4.0,>=0.3.0->langchain_experimental) (0.21.0)\n",
      "Requirement already satisfied: typing-inspection>=0.4.0 in /opt/anaconda3/lib/python3.12/site-packages (from pydantic-settings<3.0.0,>=2.10.1->langchain-community<0.4.0,>=0.3.0->langchain_experimental) (0.4.2)\n",
      "Requirement already satisfied: charset_normalizer<4,>=2 in /opt/anaconda3/lib/python3.12/site-packages (from requests<3.0.0,>=2.32.5->langchain-community<0.4.0,>=0.3.0->langchain_experimental) (3.3.2)\n",
      "Requirement already satisfied: idna<4,>=2.5 in /opt/anaconda3/lib/python3.12/site-packages (from requests<3.0.0,>=2.32.5->langchain-community<0.4.0,>=0.3.0->langchain_experimental) (3.7)\n",
      "Requirement already satisfied: urllib3<3,>=1.21.1 in /opt/anaconda3/lib/python3.12/site-packages (from requests<3.0.0,>=2.32.5->langchain-community<0.4.0,>=0.3.0->langchain_experimental) (2.2.3)\n",
      "Requirement already satisfied: certifi>=2017.4.17 in /opt/anaconda3/lib/python3.12/site-packages (from requests<3.0.0,>=2.32.5->langchain-community<0.4.0,>=0.3.0->langchain_experimental) (2025.8.3)\n",
      "Requirement already satisfied: anyio in /opt/anaconda3/lib/python3.12/site-packages (from httpx<1,>=0.23.0->langsmith<1.0.0,>=0.1.125->langchain-community<0.4.0,>=0.3.0->langchain_experimental) (4.2.0)\n",
      "Requirement already satisfied: httpcore==1.* in /opt/anaconda3/lib/python3.12/site-packages (from httpx<1,>=0.23.0->langsmith<1.0.0,>=0.1.125->langchain-community<0.4.0,>=0.3.0->langchain_experimental) (1.0.2)\n",
      "Requirement already satisfied: sniffio in /opt/anaconda3/lib/python3.12/site-packages (from httpx<1,>=0.23.0->langsmith<1.0.0,>=0.1.125->langchain-community<0.4.0,>=0.3.0->langchain_experimental) (1.3.0)\n",
      "Requirement already satisfied: h11<0.15,>=0.13 in /opt/anaconda3/lib/python3.12/site-packages (from httpcore==1.*->httpx<1,>=0.23.0->langsmith<1.0.0,>=0.1.125->langchain-community<0.4.0,>=0.3.0->langchain_experimental) (0.14.0)\n",
      "Requirement already satisfied: mypy-extensions>=0.3.0 in /opt/anaconda3/lib/python3.12/site-packages (from typing-inspect<1,>=0.4.0->dataclasses-json<0.7.0,>=0.6.7->langchain-community<0.4.0,>=0.3.0->langchain_experimental) (1.0.0)\n",
      "Note: you may need to restart the kernel to use updated packages.\n"
     ]
    }
   ],
   "source": [
    "%pip install langchain_experimental\n",
    "\n",
    "from typing import Optional\n",
    "\n",
    "from langchain.chains import LLMChain\n",
    "from langchain.prompts import PromptTemplate\n",
    "from langchain_experimental.autonomous_agents import BabyAGI\n",
    "from langchain_openai import OpenAI, OpenAIEmbeddings"
   ]
  },
  {
   "cell_type": "markdown",
   "id": "09f70772",
   "metadata": {},
   "source": [
    "## Connect to the Vector Store\n",
    "\n",
    "Depending on what vectorstore you use, this step may look different."
   ]
  },
  {
   "cell_type": "code",
   "execution_count": 19,
   "id": "794045d4",
   "metadata": {
    "tags": []
   },
   "outputs": [
    {
     "name": "stdout",
     "output_type": "stream",
     "text": [
      "Note: you may need to restart the kernel to use updated packages.\n",
      "Note: you may need to restart the kernel to use updated packages.\n"
     ]
    }
   ],
   "source": [
    "%pip install faiss-cpu > /dev/null\n",
    "%pip install google-search-results > /dev/null\n",
    "from langchain.docstore import InMemoryDocstore\n",
    "from langchain_community.vectorstores import FAISS"
   ]
  },
  {
   "cell_type": "code",
   "execution_count": 20,
   "id": "c4164841-915d-4c60-8a47-3a502a5cf71d",
   "metadata": {
    "tags": []
   },
   "outputs": [],
   "source": [
    "import os\n",
    "from dotenv import load_dotenv, find_dotenv\n",
    "_ = load_dotenv(find_dotenv())\n",
    "\n",
    "OPENAI_API_KEY  = os.getenv('OPENAI_API_KEY')\n",
    "SERPAPI_API_KEY = os.getenv('SERPAPI_API_KEY')"
   ]
  },
  {
   "cell_type": "code",
   "execution_count": 21,
   "id": "6e0305eb",
   "metadata": {
    "tags": []
   },
   "outputs": [
    {
     "name": "stderr",
     "output_type": "stream",
     "text": [
      "`embedding_function` is expected to be an Embeddings object, support for passing in a function will soon be removed.\n"
     ]
    }
   ],
   "source": [
    "# Define your embedding model\n",
    "embeddings_model = OpenAIEmbeddings()\n",
    "# Initialize the vectorstore as empty\n",
    "import faiss\n",
    "\n",
    "embedding_size = 1536\n",
    "index = faiss.IndexFlatL2(embedding_size)\n",
    "vectorstore = FAISS(embeddings_model.embed_query, index, InMemoryDocstore({}), {})"
   ]
  },
  {
   "cell_type": "markdown",
   "id": "0f3b72bf",
   "metadata": {},
   "source": [
    "## Define the Chains\n",
    "\n",
    "BabyAGI relies on three LLM chains:\n",
    "- Task creation chain to select new tasks to add to the list\n",
    "- Task prioritization chain to re-prioritize tasks\n",
    "- Execution Chain to execute the tasks\n",
    "\n",
    "\n",
    "NOTE: in this notebook, the Execution chain will now be an agent."
   ]
  },
  {
   "cell_type": "code",
   "execution_count": 23,
   "id": "b43cd580",
   "metadata": {
    "tags": []
   },
   "outputs": [],
   "source": [
    "from langchain.agents import AgentExecutor, Tool, ZeroShotAgent\n",
    "from langchain.chains import LLMChain\n",
    "from langchain_community.utilities import SerpAPIWrapper\n",
    "from langchain_openai import OpenAI\n",
    "\n",
    "todo_prompt = PromptTemplate.from_template(\n",
    "    \"You are a planner who is an expert at coming up with a todo list for a given objective. Come up with a todo list for this objective: {objective}\"\n",
    ")\n",
    "todo_chain = LLMChain(llm=OpenAI(temperature=0), prompt=todo_prompt)\n",
    "search = SerpAPIWrapper()\n",
    "tools = [\n",
    "    Tool(\n",
    "        name=\"Search\",\n",
    "        func=search.run,\n",
    "        description=\"useful for when you need to answer questions about current events\",\n",
    "    ),\n",
    "    Tool(\n",
    "        name=\"TODO\",\n",
    "        func=todo_chain.run,\n",
    "        description=\"useful for when you need to come up with todo lists. Input: an objective to create a todo list for. Output: a todo list for that objective. Please be very clear what the objective is!\",\n",
    "    ),\n",
    "]\n",
    "\n",
    "\n",
    "prefix = \"\"\"You are an AI who performs one task based on the following objective: {objective}. Take into account these previously completed tasks: {context}.\"\"\"\n",
    "suffix = \"\"\"Question: {task}\n",
    "{agent_scratchpad}\"\"\"\n",
    "prompt = ZeroShotAgent.create_prompt(\n",
    "    tools,\n",
    "    prefix=prefix,\n",
    "    suffix=suffix,\n",
    "    input_variables=[\"objective\", \"task\", \"context\", \"agent_scratchpad\"],\n",
    ")"
   ]
  },
  {
   "cell_type": "code",
   "execution_count": 24,
   "id": "4b00ae2e",
   "metadata": {
    "tags": []
   },
   "outputs": [],
   "source": [
    "llm = OpenAI(temperature=0)\n",
    "llm_chain = LLMChain(llm=llm, prompt=prompt)\n",
    "tool_names = [tool.name for tool in tools]\n",
    "agent = ZeroShotAgent(llm_chain=llm_chain, allowed_tools=tool_names)\n",
    "agent_executor = AgentExecutor.from_agent_and_tools(\n",
    "    agent=agent, tools=tools, verbose=True\n",
    ")"
   ]
  },
  {
   "cell_type": "markdown",
   "id": "05ba762e",
   "metadata": {},
   "source": [
    "### Run the BabyAGI\n",
    "\n",
    "Now it's time to create the BabyAGI controller and watch it try to accomplish your objective."
   ]
  },
  {
   "cell_type": "code",
   "execution_count": 25,
   "id": "3d220b69",
   "metadata": {
    "tags": []
   },
   "outputs": [],
   "source": [
    "OBJECTIVE = \"Plan a 1-week social media content calendar for a Nigerian food brand based in Portugal\"\n"
   ]
  },
  {
   "cell_type": "code",
   "execution_count": 26,
   "id": "3d69899b",
   "metadata": {
    "tags": []
   },
   "outputs": [],
   "source": [
    "# Logging of LLMChains\n",
    "verbose = False\n",
    "# If None, will keep on going forever\n",
    "max_iterations: Optional[int] = 3\n",
    "baby_agi = BabyAGI.from_llm(\n",
    "    llm=llm,\n",
    "    vectorstore=vectorstore,\n",
    "    task_execution_chain=agent_executor,\n",
    "    verbose=verbose,\n",
    "    max_iterations=max_iterations,\n",
    ")"
   ]
  },
  {
   "cell_type": "code",
   "execution_count": 27,
   "id": "f7957b51",
   "metadata": {
    "tags": []
   },
   "outputs": [
    {
     "name": "stdout",
     "output_type": "stream",
     "text": [
      "\u001b[95m\u001b[1m\n",
      "*****TASK LIST*****\n",
      "\u001b[0m\u001b[0m\n",
      "1: Make a todo list\n",
      "\u001b[92m\u001b[1m\n",
      "*****NEXT TASK*****\n",
      "\u001b[0m\u001b[0m\n",
      "1: Make a todo list\n",
      "\n",
      "\n",
      "\u001b[1m> Entering new AgentExecutor chain...\u001b[0m\n",
      "\u001b[32;1m\u001b[1;3mThought: I need to plan a 1-week social media content calendar for a Nigerian food brand based in Portugal\n",
      "Action: TODO\n",
      "Action Input: Plan a 1-week social media content calendar for a Nigerian food brand based in Portugal\u001b[0m\n",
      "Observation: \u001b[33;1m\u001b[1;3m\n",
      "\n",
      "1. Research the target audience: Before creating any content, it is important to understand the target audience of the Nigerian food brand in Portugal. This will help in creating content that resonates with them and increases engagement.\n",
      "\n",
      "2. Define the brand's social media goals: Determine the main objectives of the social media presence for the Nigerian food brand. This could include increasing brand awareness, driving website traffic, or promoting new products.\n",
      "\n",
      "3. Choose the right social media platforms: Based on the target audience and brand goals, select the most relevant social media platforms to focus on. This could include Instagram, Facebook, Twitter, or LinkedIn.\n",
      "\n",
      "4. Create a content calendar template: Use a spreadsheet or a social media management tool to create a content calendar template for the week. This will help in organizing and scheduling content in advance.\n",
      "\n",
      "5. Plan for daily posts: Plan for at least one post per day on each social media platform. This could include showcasing Nigerian dishes, sharing recipes, or promoting special offers.\n",
      "\n",
      "6. Incorporate visual content: Visuals are important for social media engagement. Plan to include high-quality images and videos of the Nigerian food brand's dishes, ingredients, and cooking process.\n",
      "\n",
      "7. Schedule promotional posts: Plan to promote any upcoming events, discounts, or new products\u001b[0m\n",
      "Thought:\u001b[32;1m\u001b[1;3m I have completed the todo list for planning a 1-week social media content calendar for a Nigerian food brand based in Portugal\n",
      "Final Answer: The final answer is a todo list with 7 tasks to plan a 1-week social media content calendar for a Nigerian food brand based in Portugal.\u001b[0m\n",
      "\n",
      "\u001b[1m> Finished chain.\u001b[0m\n",
      "\u001b[93m\u001b[1m\n",
      "*****TASK RESULT*****\n",
      "\u001b[0m\u001b[0m\n",
      "The final answer is a todo list with 7 tasks to plan a 1-week social media content calendar for a Nigerian food brand based in Portugal.\n",
      "\u001b[95m\u001b[1m\n",
      "*****TASK LIST*****\n",
      "\u001b[0m\u001b[0m\n",
      "1: Research popular Nigerian dishes and ingredients.\n",
      "2: Gather high-quality images of Nigerian food and culture.\n",
      "3: Create a list of hashtags relevant to Nigerian cuisine and Portugal.\n",
      "4: Write engaging captions for each day's post.\n",
      "5: Design a social media content calendar template for the 1-week period.\n",
      "6: Schedule posts for each day of the 1-week period.\n",
      "7: Monitor engagement and respond to comments and messages.\n",
      "\u001b[92m\u001b[1m\n",
      "*****NEXT TASK*****\n",
      "\u001b[0m\u001b[0m\n",
      "1: Research popular Nigerian dishes and ingredients.\n",
      "\n",
      "\n",
      "\u001b[1m> Entering new AgentExecutor chain...\u001b[0m\n",
      "\u001b[32;1m\u001b[1;3mThought: I should research popular Nigerian dishes and ingredients to understand the brand's target audience and what type of content would be most engaging.\n",
      "Action: Search\n",
      "Action Input: \"Popular Nigerian dishes and ingredients\"\u001b[0m\n",
      "Observation: \u001b[36;1m\u001b[1;3m['Nigerian Buka Stew Recipe: Video Recipe · Basmati Fried Rice Recipe- Nigerian Fried Rice (Video) · Nigerian Scotch Eggs – Video Recipe · Nigerian Fried Pepper Stew ...', \"Fried foods are extremely popular across Nigeria, for both meals and snacks. Made from fresh and fermented batters and doughs, you'll find ...\", 'Traditional Nigerian dishes, which include spicy snacks and soups and stews to feed a crowd. They feature ingredients like root vegetables, peppers, and leafy ...', 'Nigerian Food & Recipes · Plantain Pancakes with Spicy Maple Syrup and Peanuts · Afang Soup: A Green, Leafy Nigerian Vegetable Soup · Fonio Porridge/Acha Pudding: ...', '1. Jollof Rice. The popular jollof rice is a classic recipe that makes it to almost all special occasions in Nigeria. It is a rich, tasty, ...', \"Which dishes best represent the cuisine of Nigeria? · Jollof rice · Akara (I know this is not just Nigerian but I've seen it come up a few times ...\"]\u001b[0m\n",
      "Thought:\u001b[32;1m\u001b[1;3m I should take note of the most popular dishes and ingredients mentioned in the search results.\n",
      "Action: TODO\n",
      "Action Input: \"Create a todo list for planning social media content\"\u001b[0m\n",
      "Observation: \u001b[33;1m\u001b[1;3m\n",
      "\n",
      "1. Define your target audience: Before creating any social media content, it is important to know who your target audience is. This will help you tailor your content to their interests and preferences.\n",
      "\n",
      "2. Set goals and objectives: Determine what you want to achieve with your social media content. This could be increasing brand awareness, driving website traffic, or generating leads. Having clear goals will help guide your content creation.\n",
      "\n",
      "3. Research current trends and topics: Stay up-to-date with the latest trends and topics in your industry and on social media. This will help you create relevant and engaging content that resonates with your audience.\n",
      "\n",
      "4. Create a content calendar: Plan out your content in advance by creating a content calendar. This will help you stay organized and ensure that you are consistently posting on social media.\n",
      "\n",
      "5. Choose the right platforms: Not all social media platforms are created equal. Choose the platforms that are most relevant to your target audience and where your content will perform best.\n",
      "\n",
      "6. Brainstorm content ideas: Get creative and come up with a variety of content ideas that align with your goals and target audience. This could include images, videos, blog posts, polls, and more.\n",
      "\n",
      "7. Create a mix of promotional and non-promotional content: While it is important to\u001b[0m\n",
      "Thought:\u001b[32;1m\u001b[1;3m I should make sure to include a mix of promotional and non-promotional content in my content calendar.\n",
      "Action: TODO\n",
      "Action Input: \"Include a mix of promotional and non-promotional content in the content calendar\"\u001b[0m\n",
      "Observation: \u001b[33;1m\u001b[1;3m\n",
      "\n",
      "1. Define the objective: The first step is to clearly define the objective of including a mix of promotional and non-promotional content in the content calendar. This will help guide all the tasks and decisions that follow.\n",
      "\n",
      "2. Conduct market research: Before creating the content calendar, it is important to conduct market research to understand the target audience, their interests, and the type of content that resonates with them.\n",
      "\n",
      "3. Identify promotional and non-promotional content: Make a list of all the promotional and non-promotional content that can be included in the content calendar. This can include product promotions, educational content, user-generated content, etc.\n",
      "\n",
      "4. Set a ratio: Decide on the ratio of promotional to non-promotional content that will be included in the content calendar. This will ensure a balanced mix and prevent the calendar from becoming too sales-focused.\n",
      "\n",
      "5. Plan for seasonal and timely content: Consider incorporating seasonal and timely content into the calendar, such as holiday promotions or industry events. This will keep the content fresh and relevant.\n",
      "\n",
      "6. Create a schedule: Set a schedule for when each type of content will be published. This will help ensure a consistent flow of content and prevent any overlap or gaps.\n",
      "\n",
      "7. Assign responsibilities: Assign responsibilities to team members for creating, reviewing\u001b[0m\n",
      "Thought:\u001b[32;1m\u001b[1;3m I should make sure to assign responsibilities to team members for creating, reviewing, and scheduling the content.\n",
      "Action: TODO\n",
      "Action Input: \"Assign responsibilities for creating, reviewing, and scheduling content\"\u001b[0m\n",
      "Observation: \u001b[33;1m\u001b[1;3m\n",
      "\n",
      "1. Identify the content that needs to be created, reviewed, and scheduled.\n",
      "2. Determine the timeline for when the content needs to be completed.\n",
      "3. Create a list of potential team members who can be responsible for each task.\n",
      "4. Assign specific responsibilities to each team member based on their strengths and expertise.\n",
      "5. Clearly communicate the expectations and deadlines for each task to the team members.\n",
      "6. Set up regular check-ins and meetings to review progress and address any issues.\n",
      "7. Provide necessary resources and support to team members to ensure successful completion of their tasks.\n",
      "8. Establish a system for tracking and organizing the content creation, review, and scheduling process.\n",
      "9. Regularly review and adjust responsibilities as needed to ensure efficiency and effectiveness.\n",
      "10. Celebrate and recognize the team's efforts and accomplishments upon completion of the project.\u001b[0m\n",
      "Thought:\u001b[32;1m\u001b[1;3m I now know the final answer.\n",
      "Final Answer: The final answer is a todo list for planning a 1-week social media content calendar for a Nigerian food brand based in Portugal. This includes defining the target audience, setting goals and objectives, researching current trends and topics, creating a content calendar, choosing the right platforms, brainstorming content ideas, and including a mix of promotional and non-promotional content. It also involves assigning responsibilities for creating, reviewing, and scheduling the content.\u001b[0m\n",
      "\n",
      "\u001b[1m> Finished chain.\u001b[0m\n",
      "\u001b[93m\u001b[1m\n",
      "*****TASK RESULT*****\n",
      "\u001b[0m\u001b[0m\n",
      "The final answer is a todo list for planning a 1-week social media content calendar for a Nigerian food brand based in Portugal. This includes defining the target audience, setting goals and objectives, researching current trends and topics, creating a content calendar, choosing the right platforms, brainstorming content ideas, and including a mix of promotional and non-promotional content. It also involves assigning responsibilities for creating, reviewing, and scheduling the content.\n",
      "\u001b[95m\u001b[1m\n",
      "*****TASK LIST*****\n",
      "\u001b[0m\u001b[0m\n",
      "1: Conduct market research to identify the target audience for the Nigerian food brand in Portugal.\n",
      "2: Set specific and measurable goals and objectives for the social media content calendar.\n",
      "3: Research current trends and topics related to Nigerian cuisine and Portugal to inform content creation.\n",
      "4: Create a content calendar for the 1-week period, including specific themes and topics for each day.\n",
      "5: Choose the most effective social media platforms for reaching the target audience.\n",
      "6: Brainstorm creative and engaging content ideas that align with the brand's goals and target audience.\n",
      "7: Develop a mix of promotional and non-promotional content to keep the audience engaged.\n",
      "8: Assign responsibilities for creating, reviewing, and scheduling the content to team members.\n",
      "9: Gather high-quality images of Nigerian food and culture to use in social media posts.\n",
      "10: Create a list of relevant hashtags for Nigerian cuisine and Portugal to increase visibility.\n",
      "11: Write engaging captions for each day's post to capture the audience's attention.\n",
      "12: Design a social media content calendar template for the 1-week period to ensure consistency and organization.\n",
      "13: Schedule posts for each day of the 1-week period to ensure timely and consistent delivery.\n",
      "14: Monitor engagement on social media platforms and respond to comments and messages to foster a strong\n",
      "\u001b[92m\u001b[1m\n",
      "*****NEXT TASK*****\n",
      "\u001b[0m\u001b[0m\n",
      "1: Conduct market research to identify the target audience for the Nigerian food brand in Portugal.\n",
      "\n",
      "\n",
      "\u001b[1m> Entering new AgentExecutor chain...\u001b[0m\n",
      "\u001b[32;1m\u001b[1;3mThought: I should research the demographics and preferences of the Portuguese population to determine the potential target audience for the Nigerian food brand.\n",
      "Action: Search\n",
      "Action Input: \"Portuguese population demographics and preferences\"\u001b[0m\n",
      "Observation: \u001b[36;1m\u001b[1;3m['Demographic features of the population of Portugal include population density, ethnicity, education level, health of the populace, economic status, religious ...', 'Largest Cities in Portugal ; 1, Lisbon, 517,802 ; 2, Porto, 249,633 ; 3, Amadora, 178,858 ; 4, Braga, 121,394.', 'The Portuguese people are a Romance-speaking ethnic group and nation indigenous to Portugal, a country that occupies the west side of the Iberian Peninsula ...', 'This Demographic Statistics - 2023 edition presents the demographic situation of the resident population in Portugal in 2023.', '94 % of the population is Portuguese. Brazilians, Black, mixed race and other Europeans each represents about 1.2 % of the total population. Guide to Portugal ...', 'Portugal is a country in Europe, known for its Atlantic coastline and historic ports. It has a population of 10.4 million, making it the 93rd largest country ...', 'The Portuguese population has declined in the last decade as a result of negative natural and migration balances.', 'Esri provides a standard demographics dataset for Portugal sourced from data supplied by Michael Bauer Research GmbH.', 'Overall Population over time\\u200b\\u200b In Portugal, the current population is 10,430,738 as of 2023 with a projected decrease of 6.3% to 9,770,271 by 2050.', 'Portugal has a population of around 10.7 million and is among the European countries with the highest share of senior citizens. This is ...']\u001b[0m\n",
      "Thought:\u001b[32;1m\u001b[1;3m I should also research the Nigerian community in Portugal to see if there is a potential target audience within that group.\n",
      "Action: Search\n",
      "Action Input: \"Nigerian community in Portugal\"\u001b[0m\n",
      "Observation: \u001b[36;1m\u001b[1;3m['Group summary. The Nigerian Community in Portugal group is a forum for Nigerians living and working in Portugal to interact, communicate, and share vital ...', \"We, the Nigerian Community in Portugal are excited to announce the second edition of our Capacity Development Event. If you're in Lisbon, join us at ISEG on ...\", 'Around 3,000 Nigerians live in Portugal today. A 2019 Pew survey revealed that Nigerians rank highest among people who say they plan to leave ...', 'Yes, in 2023 around 3,000 Nigerians nationals live in Portugal according to the Nigerian ambassador to Portugal.', 'Official Instagram Page of the Nigerians in Diaspora Organization, Portugal. Facebook: Nidoe-portugal Chapter Twitter: @NidoPortugal', 'Present was NIDO and the leaders of ethnic nationalities of Delta, Edo, Youruba and Igbo. We agreed to resuscitate the dead Nigeria Community in Portugal. Based ...', \"Our community is a hub of accomplished individuals, spanning both Portuguese and Nigerian business landscapes. By joining us, you'll gain direct access to a ...\", 'NIGERIAN COMMUNITY IN PORTUGAL. Non-profit Organization Official Instagram account of the Nigerian Community in Portugal. Follow ...', 'Discover the vibrant community of Nigerians in Portugal, from weddings to expat life and cultural experiences. Learn why Portugal is a top destination for ...']\u001b[0m\n",
      "Thought:\u001b[32;1m\u001b[1;3m I should also research the Nigerian food market in Portugal to understand the competition and potential demand for the brand.\n",
      "Action: Search\n",
      "Action Input: \"Nigerian food market in Portugal\"\u001b[0m\n",
      "Observation: \u001b[36;1m\u001b[1;3m['Located in Portalegre, Favy African market delivers Nigerian ingredients straight to your doorstep. ... Many local Portuguese mercados ...', 'Hello Friend, Have you been thinking if there are African shops in Portugal? Check out this store and see what is obtainable there.', 'We are your No. 1 online African market in Portugal, recognized for bridging the gap between African communities and the foods and products that connect ...', 'Amedove presents a tantalizing bite of Nigerian food, all African dishes here in Amadora in the region of Lisbon, Portugal. We offer Western African and ...', 'Wholesale & Retail Of Afro-Caribbean Products / Groceries in Portugal ❤️ 1000+ Happy Customers Delivery in PT & Across EU Portalegre Shop now ⤵️.', 'A taste of 9JA in Lisbon. We love bringing authentic Nigerian flavours to your table. Event catering. Delivery across. Send a DM / CLICK.', 'BayFoods brings the rich flavors of authentic African and Nigerian cuisine to Braga, Portugal. Enjoy a diverse menu featuring Jollof Rice, Egusi Soup ...', 'FOOD SHOPPING IN PORTUGAL | HOW MUCH I SPENT ON AFRICAN FOOD | MOVING TO PORTUGAL #portugal Hi everyone, this video is about African food in ...', \"I found a Nigerian Chef named adua based in Lisbon and I'll be trying her homecook meals today before moving to Lisbon.\", \"This is rated the number one food here and I'm really proud because it's Nigerian food. It's called Yaji Lisbon. It's Nigerian food out here.\"]\u001b[0m\n",
      "Thought:\u001b[32;1m\u001b[1;3m I now know the target audience for the Nigerian food brand in Portugal is likely to be the Portuguese population, the Nigerian community in Portugal, and anyone interested in African cuisine. The brand should also consider targeting expats and tourists looking for authentic Nigerian food experiences.\n",
      "Final Answer: The target audience for the Nigerian food brand in Portugal is likely to be the Portuguese population, the Nigerian community in Portugal, and anyone interested in African cuisine. The brand should also consider targeting expats and tourists looking for authentic Nigerian food experiences.\u001b[0m\n",
      "\n",
      "\u001b[1m> Finished chain.\u001b[0m\n",
      "\u001b[93m\u001b[1m\n",
      "*****TASK RESULT*****\n",
      "\u001b[0m\u001b[0m\n",
      "The target audience for the Nigerian food brand in Portugal is likely to be the Portuguese population, the Nigerian community in Portugal, and anyone interested in African cuisine. The brand should also consider targeting expats and tourists looking for authentic Nigerian food experiences.\n",
      "\u001b[91m\u001b[1m\n",
      "*****TASK ENDING*****\n",
      "\u001b[0m\u001b[0m\n"
     ]
    },
    {
     "data": {
      "text/plain": [
       "{'objective': 'Plan a 1-week social media content calendar for a Nigerian food brand based in Portugal'}"
      ]
     },
     "execution_count": 27,
     "metadata": {},
     "output_type": "execute_result"
    }
   ],
   "source": [
    "baby_agi(OBJECTIVE)"
   ]
  }
 ],
 "metadata": {
  "kernelspec": {
   "display_name": "base",
   "language": "python",
   "name": "python3"
  },
  "language_info": {
   "codemirror_mode": {
    "name": "ipython",
    "version": 3
   },
   "file_extension": ".py",
   "mimetype": "text/x-python",
   "name": "python",
   "nbconvert_exporter": "python",
   "pygments_lexer": "ipython3",
   "version": "3.12.2"
  }
 },
 "nbformat": 4,
 "nbformat_minor": 5
}
